{
 "cells": [
  {
   "cell_type": "code",
   "execution_count": 128,
   "metadata": {},
   "outputs": [],
   "source": [
    "# importing modules needed\n",
    "import numpy as np \n",
    "import pandas as pd\n",
    "import matplotlib.pyplot as plt\n",
    "import seaborn as sns\n",
    "import os\n",
    "import sklearn\n",
    "import re\n",
    "from nltk.corpus import stopwords\n",
    "import warnings;\n",
    "warnings.filterwarnings('ignore');\n",
    "import torch\n",
    "import time\n",
    "from sklearn.neighbors import KNeighborsClassifier\n",
    "import pickle\n",
    "\n",
    "import os\n",
    "from transformers import DistilBertTokenizer,DistilBertModel\n",
    "from torch.utils.data import Dataset,DataLoader\n",
    "from sklearn import naive_bayes, svm\n",
    "from sklearn.naive_bayes import GaussianNB\n",
    "from sklearn.model_selection import train_test_split,StratifiedKFold\n",
    "from sklearn.feature_extraction.text import TfidfVectorizer\n",
    "from sklearn.linear_model import SGDClassifier, LogisticRegression\n",
    "from sklearn.pipeline import Pipeline\n",
    "from sklearn.metrics import log_loss,accuracy_score, classification_report\n",
    "from sklearn.cluster import KMeans\n",
    "device = torch.device(\"cuda:0\" if torch.cuda.is_available() else \"cpu\")\n",
    "\n",
    "\n"
   ]
  },
  {
   "cell_type": "code",
   "execution_count": 3,
   "metadata": {},
   "outputs": [],
   "source": [
    "cur_dir = os.getcwd()\n",
    "input_dir = '/home/gusmavko@GU.GU.SE/MovieScriptsParticipantsData/'\n",
    "script_dir = '/home/gusmavko@GU.GU.SE/MovieScriptsParticipantsData/Scripts'"
   ]
  },
  {
   "cell_type": "code",
   "execution_count": 4,
   "metadata": {},
   "outputs": [],
   "source": []
  },
  {
   "cell_type": "code",
   "execution_count": 5,
   "metadata": {},
   "outputs": [],
   "source": [
    "train_path = os.path.join(cur_dir,input_dir,'Train.csv')\n",
    "test_path = os.path.join(cur_dir,input_dir,'Test.csv')"
   ]
  },
  {
   "cell_type": "code",
   "execution_count": 61,
   "metadata": {},
   "outputs": [],
   "source": [
    "text_df = pd.read_csv('Train.csv')"
   ]
  },
  {
   "cell_type": "code",
   "execution_count": 63,
   "metadata": {},
   "outputs": [],
   "source": [
    "text_df['text'] = [open(script_dir + os.sep + file, \"r\").read() for file in text_df['File_Name']]"
   ]
  },
  {
   "cell_type": "code",
   "execution_count": 64,
   "metadata": {},
   "outputs": [],
   "source": [
    "\n",
    "def clean_text(text):\n",
    "    tokenized_text = []\n",
    "    sw = stopwords.words(('english'))\n",
    "    # remove backslash-apostrophe \n",
    "    text = re.sub(\"\\'\", \"\", text) \n",
    "    # remove everything except alphabets \n",
    "    text = re.sub(\"[^a-zA-Z]\",\" \",text) \n",
    "    # remove whitespaces and convert to lowercase \n",
    "    text = ' '.join(text.split()).lower() \n",
    "    \n",
    "    no_stopword_text = [word for word in text.split() if not word in sw]\n",
    "     \n",
    "    return ' '.join(no_stopword_text)"
   ]
  },
  {
   "cell_type": "code",
   "execution_count": 68,
   "metadata": {},
   "outputs": [],
   "source": [
    "text_df['text'] = text_df['text'].apply(lambda x: clean_text(x))"
   ]
  },
  {
   "cell_type": "code",
   "execution_count": 69,
   "metadata": {},
   "outputs": [
    {
     "data": {
      "text/html": [
       "<div>\n",
       "<style scoped>\n",
       "    .dataframe tbody tr th:only-of-type {\n",
       "        vertical-align: middle;\n",
       "    }\n",
       "\n",
       "    .dataframe tbody tr th {\n",
       "        vertical-align: top;\n",
       "    }\n",
       "\n",
       "    .dataframe thead th {\n",
       "        text-align: right;\n",
       "    }\n",
       "</style>\n",
       "<table border=\"1\" class=\"dataframe\">\n",
       "  <thead>\n",
       "    <tr style=\"text-align: right;\">\n",
       "      <th></th>\n",
       "      <th>File_Name</th>\n",
       "      <th>Labels</th>\n",
       "      <th>text</th>\n",
       "      <th>clean_text</th>\n",
       "    </tr>\n",
       "  </thead>\n",
       "  <tbody>\n",
       "    <tr>\n",
       "      <th>0</th>\n",
       "      <td>file_2180.txt</td>\n",
       "      <td>8</td>\n",
       "      <td>crouching tiger hidden dragon wang hui ling ja...</td>\n",
       "      <td>crouching tiger hidden dragon wang hui ling ja...</td>\n",
       "    </tr>\n",
       "    <tr>\n",
       "      <th>1</th>\n",
       "      <td>file_693.txt</td>\n",
       "      <td>4</td>\n",
       "      <td>mumford screenplay lawrence kasdan shooting dr...</td>\n",
       "      <td>mumford screenplay lawrence kasdan shooting dr...</td>\n",
       "    </tr>\n",
       "    <tr>\n",
       "      <th>2</th>\n",
       "      <td>file_2469.txt</td>\n",
       "      <td>6</td>\n",
       "      <td>max payne written beau michael thorne black ma...</td>\n",
       "      <td>max payne written beau michael thorne black ma...</td>\n",
       "    </tr>\n",
       "    <tr>\n",
       "      <th>3</th>\n",
       "      <td>file_2542.txt</td>\n",
       "      <td>6</td>\n",
       "      <td>slumdog millionaire written simon beaufoy nove...</td>\n",
       "      <td>slumdog millionaire written simon beaufoy nove...</td>\n",
       "    </tr>\n",
       "    <tr>\n",
       "      <th>4</th>\n",
       "      <td>file_378.txt</td>\n",
       "      <td>16</td>\n",
       "      <td>b b window top top location href location href...</td>\n",
       "      <td>b b window top top location href location href...</td>\n",
       "    </tr>\n",
       "  </tbody>\n",
       "</table>\n",
       "</div>"
      ],
      "text/plain": [
       "       File_Name  Labels                                               text  \\\n",
       "0  file_2180.txt       8  crouching tiger hidden dragon wang hui ling ja...   \n",
       "1   file_693.txt       4  mumford screenplay lawrence kasdan shooting dr...   \n",
       "2  file_2469.txt       6  max payne written beau michael thorne black ma...   \n",
       "3  file_2542.txt       6  slumdog millionaire written simon beaufoy nove...   \n",
       "4   file_378.txt      16  b b window top top location href location href...   \n",
       "\n",
       "                                          clean_text  \n",
       "0  crouching tiger hidden dragon wang hui ling ja...  \n",
       "1  mumford screenplay lawrence kasdan shooting dr...  \n",
       "2  max payne written beau michael thorne black ma...  \n",
       "3  slumdog millionaire written simon beaufoy nove...  \n",
       "4  b b window top top location href location href...  "
      ]
     },
     "execution_count": 69,
     "metadata": {},
     "output_type": "execute_result"
    }
   ],
   "source": [
    "text_df.head()"
   ]
  },
  {
   "cell_type": "code",
   "execution_count": 82,
   "metadata": {},
   "outputs": [],
   "source": [
    "# extracting tf-idf as features from the train set, which I split with test_size = 0.2\n",
    "Train_X, Test_X, Train_Y, Test_Y = train_test_split(text_df['text'],text_df['Labels'],test_size=0.2)\n",
    "vec = TfidfVectorizer(max_features=10000)\n",
    "vec.fit(text_df['clean_text'])\n",
    "Train_X_tdidf = vec.transform(Train_X)\n",
    "Test_X_tfidf = vec.transform(Test_X)"
   ]
  },
  {
   "cell_type": "code",
   "execution_count": 83,
   "metadata": {},
   "outputs": [
    {
     "name": "stdout",
     "output_type": "stream",
     "text": [
      "SVM Accuracy Score ->  0.10858585858585859\n"
     ]
    }
   ],
   "source": [
    "# Classifier - Algorithm - SVM\n",
    "# fit the training dataset on the classifier\n",
    "SVM = svm.SVC(C=1.0, kernel='linear', degree=1, gamma='auto')\n",
    "SVM.fit(Train_X_tdidf,Train_Y)\n",
    "# predict the labels on validation dataset\n",
    "predictions_SVM = SVM.predict(Test_X_tfidf)\n",
    "accuracy_svm = accuracy_score(predictions_SVM, Test_Y)\n",
    "# Use accuracy_score function to get the accuracy\n",
    "print(\"SVM Accuracy Score -> \", accuracy_svm)"
   ]
  },
  {
   "cell_type": "code",
   "execution_count": 110,
   "metadata": {},
   "outputs": [
    {
     "data": {
      "text/plain": [
       "<sklearn.metrics._plot.confusion_matrix.ConfusionMatrixDisplay at 0x7fc660663550>"
      ]
     },
     "execution_count": 110,
     "metadata": {},
     "output_type": "execute_result"
    },
    {
     "data": {
      "image/png": "[encoded data removed]",
      "text/plain": [
       "<Figure size 432x288 with 2 Axes>"
      ]
     },
     "metadata": {
      "needs_background": "light"
     },
     "output_type": "display_data"
    }
   ],
   "source": [
    "sklearn.metrics.plot_confusion_matrix(SVM,Test_X_tfidf,Test_Y)"
   ]
  },
  {
   "cell_type": "code",
   "execution_count": 85,
   "metadata": {},
   "outputs": [
    {
     "name": "stdout",
     "output_type": "stream",
     "text": [
      "Naive Bayes Accuracy Score ->  0.19444444444444445\n"
     ]
    }
   ],
   "source": [
    "# trying out with Naive Bayes too\n",
    "Naive = naive_bayes.MultinomialNB()\n",
    "Naive.fit(Train_X_tdidf,Train_Y)\n",
    "\n",
    "predictions_NB = Naive.predict(Test_X_tfidf)\n",
    "# Use accuracy_score function to get the accuracy\n",
    "nvb_accuracy = accuracy_score(predictions_NB, Test_Y)\n",
    "print(\"Naive Bayes Accuracy Score -> \", nvb_accuracy)"
   ]
  },
  {
   "cell_type": "code",
   "execution_count": 111,
   "metadata": {},
   "outputs": [
    {
     "data": {
      "text/plain": [
       "<sklearn.metrics._plot.confusion_matrix.ConfusionMatrixDisplay at 0x7fc6606c3250>"
      ]
     },
     "execution_count": 111,
     "metadata": {},
     "output_type": "execute_result"
    },
    {
     "data": {
      "image/png": "[encoded data removed]",
      "text/plain": [
       "<Figure size 432x288 with 2 Axes>"
      ]
     },
     "metadata": {
      "needs_background": "light"
     },
     "output_type": "display_data"
    }
   ],
   "source": [
    "sklearn.metrics.plot_confusion_matrix(Naive,Test_X_tfidf,Test_Y)"
   ]
  },
  {
   "cell_type": "code",
   "execution_count": 98,
   "metadata": {},
   "outputs": [
    {
     "name": "stdout",
     "output_type": "stream",
     "text": [
      "K Neighbors Accuracy Score ->  0.11363636363636363\n"
     ]
    }
   ],
   "source": [
    "# number of neighbors set to 5 after cross validating the data\n",
    "kn = KNeighborsClassifier(5)\n",
    "kn.fit(Train_X_tdidf,Train_Y)\n",
    "predictions_KN = kn.predict(Test_X_tfidf)\n",
    "kn_accuracy = accuracy_score(predictions_KN,Test_Y)\n",
    "print(\"K Neighbors Accuracy Score -> \", kn_accuracy)"
   ]
  },
  {
   "cell_type": "code",
   "execution_count": 101,
   "metadata": {},
   "outputs": [
    {
     "name": "stdout",
     "output_type": "stream",
     "text": [
      "Accuracy: 0.08%\n"
     ]
    }
   ],
   "source": [
    "# fit model no training data\n",
    "from xgboost import XGBClassifier\n",
    "xgb = XGBClassifier()\n",
    "xgb.fit(Train_X_tdidf, Train_Y)\n",
    "\n",
    "# make predictions for test data\n",
    "\n",
    "predictions_xgb = xgb.predict(Test_X_tfidf)\n",
    "predictions = [round(value) for value in predictions_xgb]\n",
    "\n",
    "# evaluate predictions\n",
    "\n",
    "xgb_accuracy = accuracy_score(Test_Y, predictions)\n",
    "print(\"Accuracy: %.2f%%\" % (xgb_accuracy))"
   ]
  },
  {
   "cell_type": "code",
   "execution_count": 109,
   "metadata": {},
   "outputs": [
    {
     "data": {
      "text/plain": [
       "<sklearn.metrics._plot.confusion_matrix.ConfusionMatrixDisplay at 0x7fc660415750>"
      ]
     },
     "execution_count": 109,
     "metadata": {},
     "output_type": "execute_result"
    },
    {
     "data": {
      "image/png": "[encoded data removed]",
      "text/plain": [
       "<Figure size 432x288 with 2 Axes>"
      ]
     },
     "metadata": {
      "needs_background": "light"
     },
     "output_type": "display_data"
    }
   ],
   "source": [
    "sklearn.metrics.plot_confusion_matrix(xgb,Test_X_tfidf,Test_Y)"
   ]
  },
  {
   "cell_type": "code",
   "execution_count": 113,
   "metadata": {},
   "outputs": [
    {
     "name": "stdout",
     "output_type": "stream",
     "text": [
      "sentence embeddings with bert created\n"
     ]
    }
   ],
   "source": [
    "from sentence_transformers import SentenceTransformer\n",
    "model = SentenceTransformer('distilbert-base-nli-stsb-mean-tokens')\n",
    "sentences = list(text_df['text'])\n",
    "sentence_embeddings = model.encode(sentences)\n",
    "print(\"sentence embeddings with bert created\")"
   ]
  },
  {
   "cell_type": "code",
   "execution_count": 124,
   "metadata": {},
   "outputs": [
    {
     "name": "stdout",
     "output_type": "stream",
     "text": [
      "accuracy 0.11363636363636363\n"
     ]
    }
   ],
   "source": [
    "# save to be able to reuse later \n",
    "with open('/home/gusmavko@GU.GU.SE/MovieScriptsParticipantsData/sent_bert_embeddings.pickle', 'wb') as handle:\n",
    "    pickle.dump(sentence_embeddings, handle, protocol=pickle.HIGHEST_PROTOCOL)\n",
    "    \n",
    "# trying to see if accuracy imporves with sentence embeddings\n",
    "sentence_embeddings_df = pd.DataFrame(sentence_embeddings)\n",
    "X_train, X_test, y_train, y_test = train_test_split(sentence_embeddings_df, text_df[['Labels']], test_size=0.2, random_state = 123)\n",
    "\n",
    "nb = Pipeline([('clf', GaussianNB()),])\n",
    "nb.fit(X_train, y_train)\n",
    "\n",
    "\n",
    "y_pred = nb.predict(X_test)\n",
    "\n",
    "print('accuracy %s' % accuracy_score(y_pred, y_test))\n"
   ]
  },
  {
   "cell_type": "code",
   "execution_count": 127,
   "metadata": {},
   "outputs": [
    {
     "name": "stdout",
     "output_type": "stream",
     "text": [
      "accuracy 0.15656565656565657\n"
     ]
    }
   ],
   "source": [
    "\n",
    "sgd = Pipeline([('clf', SGDClassifier(loss='hinge', penalty='l2',alpha=1e-3, random_state=123, max_iter=5, tol=None)),])\n",
    "sgd.fit(X_train, y_train)\n",
    "\n",
    "y_pred = sgd.predict(X_test)\n",
    "\n",
    "print('accuracy %s' % accuracy_score(y_pred, y_test))\n"
   ]
  },
  {
   "cell_type": "code",
   "execution_count": 6,
   "metadata": {},
   "outputs": [],
   "source": [
    "df_raw = pd.read_csv(train_path)"
   ]
  },
  {
   "cell_type": "code",
   "execution_count": 7,
   "metadata": {},
   "outputs": [],
   "source": [
    "tokenizer = DistilBertTokenizer.from_pretrained('distilbert-base-uncased')\n",
    "model = DistilBertModel.from_pretrained('distilbert-base-uncased')\n"
   ]
  },
  {
   "cell_type": "code",
   "execution_count": 8,
   "metadata": {},
   "outputs": [],
   "source": [
    "def script_reader(file_name):\n",
    "    script_path = os.path.join(cur_dir,script_dir,file_name)\n",
    "    with open (script_path, \"r\") as myfile:\n",
    "        script =  myfile.read()\n",
    "        return script"
   ]
  },
  {
   "cell_type": "code",
   "execution_count": 9,
   "metadata": {},
   "outputs": [],
   "source": [
    "# since the scripts are so long, I had to feed the model sequences of 512 length \n",
    "class ScriptDataset(Dataset):\n",
    "    def __init__(self, file_path,tokenizer,seq_len = 510):\n",
    "        #Sequence length = Maximum possible sequence length(512) which can be fed to model - start and end tokens(2) \n",
    "        self.file_path =  file_path\n",
    "        self.script = script_reader(self.file_path)\n",
    "        #Each script is loaded only when it is being processed and deleted once tokenization and encoding is done\n",
    "        self.tokenizer = tokenizer\n",
    "        self.seq_len = seq_len\n",
    "        self.tokens = self.tokenizer.tokenize(self.script)\n",
    "        del self.script\n",
    "        self.sequences = [self.tokens[i:i+self.seq_len] for i in range(0,len(self.tokens),self.seq_len)][:-1]\n",
    "        #Drops last sequence of unequal length\n",
    "        del self.tokens\n",
    "        \n",
    "    def __len__(self):\n",
    "        return len(self.sequences) \n",
    "    \n",
    "    def __getitem__(self, idx):\n",
    "        return torch.tensor(self.tokenizer.encode(self.sequences[idx], add_special_tokens=True))"
   ]
  },
  {
   "cell_type": "code",
   "execution_count": 10,
   "metadata": {},
   "outputs": [],
   "source": [
    "def create_bert_embedding(file_path,tokenizer,model,batch_size = 2):\n",
    "    model = model.to(device)\n",
    "    model = model.eval()\n",
    "    \n",
    "    script_set = ScriptDataset(file_path,tokenizer)\n",
    "    batch_loader = DataLoader(script_set,batch_size = batch_size, shuffle = False,drop_last=False)\n",
    "    del script_set\n",
    "    \n",
    "    seq_embeddings = []\n",
    "    for i,batch in enumerate(batch_loader):\n",
    "        batch = batch.to(device)\n",
    "        #Avoid gradient calculation , for speed and memory issues\n",
    "        with torch.no_grad():\n",
    "            seq_embed = model(batch)[0][:,0,:]\n",
    "            #Collecting only the final hidden state corresponding to CLS token which can be used as sequence embedding(imperfect but still works)\n",
    "        del batch\n",
    "        seq_embeddings.append(seq_embed)\n",
    "        del seq_embed\n",
    "    del batch_loader\n",
    "           \n",
    "    return torch.cat(seq_embeddings,dim = 0).cpu().detach().numpy()"
   ]
  },
  {
   "cell_type": "code",
   "execution_count": 11,
   "metadata": {},
   "outputs": [
    {
     "name": "stdout",
     "output_type": "stream",
     "text": [
      "0\n",
      "50\n",
      "100\n",
      "150\n",
      "200\n",
      "250\n",
      "300\n",
      "350\n",
      "400\n",
      "450\n",
      "500\n",
      "550\n",
      "600\n",
      "650\n",
      "700\n",
      "750\n",
      "800\n",
      "850\n",
      "900\n",
      "950\n",
      "1000\n",
      "1050\n",
      "1100\n",
      "1150\n",
      "1200\n",
      "1250\n",
      "1300\n",
      "1350\n",
      "1400\n",
      "1450\n",
      "1500\n",
      "1550\n",
      "1600\n",
      "1650\n",
      "1700\n",
      "1750\n",
      "1800\n",
      "1850\n",
      "1900\n",
      "1950\n"
     ]
    }
   ],
   "source": [
    "tik = time.time()\n",
    "Embeddings = []\n",
    "for i in range(len(df_raw)):\n",
    "    Embeddings.append(create_bert_embedding(df_raw.File_Name[i],tokenizer,model))\n",
    "    if i % 50 == 0:\n",
    "        print(i)\n",
    "\n"
   ]
  },
  {
   "cell_type": "code",
   "execution_count": 15,
   "metadata": {},
   "outputs": [
    {
     "name": "stdout",
     "output_type": "stream",
     "text": [
      "2497.85s\n",
      "Pickling completed\n"
     ]
    }
   ],
   "source": [
    "with open('/home/gusmavko@GU.GU.SE/MovieScriptsParticipantsData/s_embeddings.pickle', 'wb') as handle:\n",
    "    pickle.dump(Embeddings, handle, protocol=pickle.HIGHEST_PROTOCOL)\n",
    "    \n",
    "df_raw['Embeds'] = Embeddings\n",
    "tok = time.time()\n",
    "print (f'{round(tok-tik,2)}s')\n",
    "\n",
    "with open('/home/gusmavko@GU.GU.SE/MovieScriptsParticipantsData/df_raw_embeds.pickle', 'wb') as handle:\n",
    "    pickle.dump(df_raw, handle, protocol=pickle.HIGHEST_PROTOCOL)\n",
    "\n",
    "    \n",
    "\n",
    "\n",
    "#Saving the embeddings in the drive incase the colab session gets terminated \n",
    "print('Pickling completed')\n",
    "\n",
    "\n",
    "#Saving the dataframe so that further analysis can start from this point"
   ]
  },
  {
   "cell_type": "code",
   "execution_count": 34,
   "metadata": {},
   "outputs": [],
   "source": [
    "# to be able to start from here by loading pickled file whenever I want to process it\n",
    "df_embed_path = '/home/gusmavko@GU.GU.SE/MovieScriptsParticipantsData/df_raw_embeds.pickle'\n",
    "\n",
    "with open(df_embed_path, 'rb') as handle:\n",
    "    df_raw = pickle.load(handle)\n"
   ]
  },
  {
   "cell_type": "code",
   "execution_count": 43,
   "metadata": {},
   "outputs": [
    {
     "data": {
      "text/plain": [
       "array([ 8,  4,  6, 16, 15, 19,  1, 14,  0,  5,  7, 11])"
      ]
     },
     "execution_count": 43,
     "metadata": {},
     "output_type": "execute_result"
    }
   ],
   "source": [
    "df_raw.Labels.unique()"
   ]
  },
  {
   "cell_type": "code",
   "execution_count": 44,
   "metadata": {},
   "outputs": [],
   "source": [
    "# merge labels that appear less than 20 times with labels that are frequently occuring\n",
    "#df_raw=df_raw.Labels.replace(dict.fromkeys([9,20,21], 8))\n",
    "#df_raw=df_raw.Labels.replace(dict.fromkeys([3,10,12,13], 15))\n",
    "##df_raw=df_raw.replace(dict.fromkeys([21], 8))\n",
    "#df_raw=df_raw.Labels.replace(dict.fromkeys([2], 7))\n",
    "#df_raw=df_raw.Labels.replace(dict.fromkeys([18,17], 1))\n",
    "replacements = {9:8,21:8,20:8,3:15,10:15,12:15,13:15,2:7,18:1,17:1}\n",
    "df_raw['Labels'] =df_raw['Labels'].replace(replacements)\n",
    "\n",
    "#relabel the integers from 1-12"
   ]
  },
  {
   "cell_type": "code",
   "execution_count": 22,
   "metadata": {},
   "outputs": [],
   "source": []
  },
  {
   "cell_type": "code",
   "execution_count": 45,
   "metadata": {},
   "outputs": [],
   "source": [
    "#Do kfold cross validation to get accuracy scores\n",
    "df_raw[\"kfold\"] = -1\n",
    "skf = StratifiedKFold()\n",
    "for fold, (train_idx, val_idx) in enumerate(skf.split(X=df_raw, y=df_raw['Labels'].values)):\n",
    "                    df_raw.loc[val_idx, 'kfold'] = fold\n",
    "        "
   ]
  },
  {
   "cell_type": "code",
   "execution_count": 46,
   "metadata": {},
   "outputs": [],
   "source": [
    "# make new data frame with arrays that contain the features as values\n",
    "def create_df_embeds(feat_array, df):\n",
    "    cols_num = feat_array[0].shape[0]\n",
    "    col_names = ['feat_' + str(i+1) for i in range(cols_num)]\n",
    "    df_feat = pd.DataFrame(data = feat_array,columns = col_names)\n",
    "    df_fit = pd.concat([df, df_feat], axis=1)\n",
    "    return df_fit,col_names"
   ]
  },
  {
   "cell_type": "code",
   "execution_count": 130,
   "metadata": {},
   "outputs": [],
   "source": [
    "# training function\n",
    "def train(df_fit,classifier,feat_cols,label_col = 'Labels'):\n",
    "    \n",
    "    folds = df_fit.kfold.nunique()\n",
    "    FOLD_MAPPPING = {fold:list(set(range(folds)) - set([fold]))  for fold in range(folds)}\n",
    "    clfs = [classifier]*folds\n",
    "    \n",
    "    train_losses = []\n",
    "    train_accuracies = []\n",
    "    valid_losses = []\n",
    "    valid_accuracies = []\n",
    "    \n",
    "    for FOLD in range(5):\n",
    "        \n",
    "        train_df = df_fit[df_fit.kfold.isin(FOLD_MAPPPING.get(FOLD))].reset_index(drop=True)\n",
    "        valid_df = df_fit[df_fit.kfold==FOLD].reset_index(drop=True)\n",
    "        \n",
    "        clf = clfs[FOLD]\n",
    "        clf.fit(train_df[feat_cols].values, train_df[label_col])\n",
    "        \n",
    "        train_probs = clf.predict_proba(train_df[feat_cols].values)\n",
    "        train_preds = clf.predict(train_df[feat_cols].values)\n",
    "        \n",
    "        train_accuracy = accuracy_score(train_df[label_col], train_preds)\n",
    "        train_loss = log_loss(train_df[label_col], train_probs)\n",
    "        \n",
    "        train_losses.append(train_loss)\n",
    "        train_accuracies.append(train_accuracy)\n",
    "\n",
    "        valid_probs = clf.predict_proba(valid_df[feat_cols].values)\n",
    "        valid_preds = clf.predict(valid_df[feat_cols].values)\n",
    "        \n",
    "        valid_accuracy = accuracy_score(valid_df[label_col], valid_preds)\n",
    "        valid_loss = log_loss(valid_df[label_col], valid_probs)\n",
    "        \n",
    "        valid_losses.append(valid_loss)\n",
    "        valid_accuracies.append(valid_accuracy)\n",
    "        \n",
    "    mean_train_loss,std_train_loss = np.mean(train_losses),np.std(train_losses)\n",
    "    mean_train_accuracy,std_train_accuracy  = np.mean(train_accuracies),np.std(train_accuracies)\n",
    "\n",
    "    mean_valid_loss,std_valid_loss = np.mean(valid_losses),np.std(valid_losses)\n",
    "    mean_valid_accuracy,std_valid_accuracy  = np.mean(valid_accuracies),np.std(valid_accuracies)\n",
    "\n",
    "    print(f'train loss = {mean_train_loss} with {np.round((std_train_loss/mean_train_loss)*100, 2)}% error')\n",
    "    print(f'valid loss = {mean_valid_loss} with {np.round((std_valid_loss/mean_valid_loss)*100, 2)}% error')\n",
    "\n",
    "    print(f'train accuracy = {mean_train_accuracy} with {np.round((std_train_accuracy/mean_train_accuracy)*100, 2)}% error')\n",
    "    print(f'valid accuracy = {mean_valid_accuracy} with {np.round((std_valid_accuracy/mean_valid_accuracy)*100, 2)}% error')\n",
    "    \n",
    "    return clfs"
   ]
  },
  {
   "cell_type": "code",
   "execution_count": 131,
   "metadata": {},
   "outputs": [
    {
     "name": "stdout",
     "output_type": "stream",
     "text": [
      "train loss = 1.5825258179052943 with 0.65% error\n",
      "valid loss = 1.989822084801452 with 0.56% error\n",
      "train accuracy = 0.39686507958691947 with 1.07% error\n",
      "valid accuracy = 0.24925073520010232 with 6.85% error\n"
     ]
    }
   ],
   "source": [
    "# calculate accuracy\n",
    "\n",
    "seed = 123\n",
    "#Fixing seed to ensure reproducibility\n",
    "torch.manual_seed(seed)\n",
    "torch.cuda.manual_seed(seed)\n",
    "np.random.seed(seed)\n",
    "\n",
    "mean_array = np.stack((df_raw.Embeds.apply(lambda x: x.mean(axis = 0)).values),axis = 0)\n",
    "df_mean,cols = create_df_embeds(mean_array, df_raw)\n",
    "classif = LogisticRegression(random_state=seed)\n",
    "LR_clfs = train(df_mean,classif,cols)"
   ]
  },
  {
   "cell_type": "code",
   "execution_count": null,
   "metadata": {},
   "outputs": [],
   "source": [
    "from sklearn.metrics import classification_report\n",
    "import sklearn\n",
    "from sklearn.model_selection import train_test_split\n",
    "\n",
    "from sklearn.feature_extraction.text import TfidfVectorizer\n",
    "\n",
    "import matplotlib.pyplot as plt\n",
    "from sklearn.cluster import KMeans\n",
    "\n",
    "X_train, X_test, Y_train, Y_test = train_test_split(data['clean_text'],data['Labels'],test_size=0.3)\n",
    "Tfidf_vect = TfidfVectorizer(max_features=5000,max_df=0.5,min_df=5)\n",
    "Tfidf_vect.fit(data['clean_text'])\n",
    "Train_X_Tfidf = Tfidf_vect.transform(Train_X)\n",
    "Test_X_Tfidf = Tfidf_vect.transform(Test_X)"
   ]
  },
  {
   "cell_type": "code",
   "execution_count": null,
   "metadata": {},
   "outputs": [],
   "source": []
  }
 ],
 "metadata": {
  "kernelspec": {
   "display_name": "Python 3",
   "language": "python",
   "name": "python3"
  },
  "language_info": {
   "codemirror_mode": {
    "name": "ipython",
    "version": 3
   },
   "file_extension": ".py",
   "mimetype": "text/x-python",
   "name": "python",
   "nbconvert_exporter": "python",
   "pygments_lexer": "ipython3",
   "version": "3.7.4"
  }
 },
 "nbformat": 4,
 "nbformat_minor": 2
}
